{
 "cells": [
  {
   "cell_type": "markdown",
   "id": "cc6b7b9f-a75d-4b78-930f-26d2343ac2c2",
   "metadata": {},
   "source": [
    "# Lesson 3: Enable Logging"
   ]
  },
  {
   "cell_type": "markdown",
   "id": "06fc5839-0b4b-42a3-9aaf-99a97e347955",
   "metadata": {},
   "source": [
    "### Import all needed packages"
   ]
  },
  {
   "cell_type": "code",
   "execution_count": 1,
   "id": "63cf31e4",
   "metadata": {
    "height": 98
   },
   "outputs": [],
   "source": [
    "import boto3\n",
    "import json\n",
    "import os\n",
    "\n",
    "bedrock = boto3.client('bedrock', region_name=\"us-west-2\")"
   ]
  },
  {
   "cell_type": "code",
   "execution_count": 2,
   "id": "e5d9e31b",
   "metadata": {
    "height": 47
   },
   "outputs": [],
   "source": [
    "from helpers.CloudWatchHelper import CloudWatch_Helper\n",
    "cloudwatch = CloudWatch_Helper()"
   ]
  },
  {
   "cell_type": "code",
   "execution_count": 3,
   "id": "87a30e7e",
   "metadata": {
    "height": 30
   },
   "outputs": [],
   "source": [
    "log_group_name = '/my/amazon/bedrock/logs'"
   ]
  },
  {
   "cell_type": "code",
   "execution_count": 4,
   "id": "2461a51c",
   "metadata": {
    "height": 30
   },
   "outputs": [
    {
     "name": "stdout",
     "output_type": "stream",
     "text": [
      "Log group '/my/amazon/bedrock/logs' created successfully.\n"
     ]
    }
   ],
   "source": [
    "cloudwatch.create_log_group(log_group_name)"
   ]
  },
  {
   "cell_type": "code",
   "execution_count": 5,
   "id": "0afe5997",
   "metadata": {
    "height": 268
   },
   "outputs": [],
   "source": [
    "loggingConfig = {\n",
    "    'cloudWatchConfig': {\n",
    "        'logGroupName': log_group_name,\n",
    "        'roleArn': os.environ['LOGGINGROLEARN'],\n",
    "        'largeDataDeliveryS3Config': {\n",
    "            'bucketName': os.environ['LOGGINGBUCKETNAME'],\n",
    "            'keyPrefix': 'amazon_bedrock_large_data_delivery',\n",
    "        }\n",
    "    },\n",
    "    's3Config': {\n",
    "        'bucketName': os.environ['LOGGINGBUCKETNAME'],\n",
    "        'keyPrefix': 'amazon_bedrock_logs',\n",
    "    },\n",
    "    'textDataDeliveryEnabled': True,\n",
    "}"
   ]
  },
  {
   "cell_type": "code",
   "execution_count": 6,
   "id": "2ca33ffe",
   "metadata": {
    "height": 30
   },
   "outputs": [
    {
     "data": {
      "text/plain": [
       "{'ResponseMetadata': {'RequestId': '12c58c99-2d62-44ad-b0ca-a5a077c6b649',\n",
       "  'HTTPStatusCode': 200,\n",
       "  'HTTPHeaders': {'date': 'Fri, 13 Sep 2024 22:10:57 GMT',\n",
       "   'content-type': 'application/json',\n",
       "   'content-length': '2',\n",
       "   'connection': 'keep-alive',\n",
       "   'x-amzn-requestid': '12c58c99-2d62-44ad-b0ca-a5a077c6b649'},\n",
       "  'RetryAttempts': 0}}"
      ]
     },
     "execution_count": 6,
     "metadata": {},
     "output_type": "execute_result"
    }
   ],
   "source": [
    "bedrock.put_model_invocation_logging_configuration(loggingConfig=loggingConfig)"
   ]
  },
  {
   "cell_type": "code",
   "execution_count": 7,
   "id": "41fdb20d",
   "metadata": {
    "height": 30
   },
   "outputs": [
    {
     "data": {
      "text/plain": [
       "{'ResponseMetadata': {'RequestId': '54dede67-5d1d-4944-af35-8341d97077e9',\n",
       "  'HTTPStatusCode': 200,\n",
       "  'HTTPHeaders': {'date': 'Fri, 13 Sep 2024 22:11:49 GMT',\n",
       "   'content-type': 'application/json',\n",
       "   'content-length': '604',\n",
       "   'connection': 'keep-alive',\n",
       "   'x-amzn-requestid': '54dede67-5d1d-4944-af35-8341d97077e9'},\n",
       "  'RetryAttempts': 0},\n",
       " 'loggingConfig': {'cloudWatchConfig': {'logGroupName': '/my/amazon/bedrock/logs',\n",
       "   'roleArn': 'arn:aws:iam::073783404421:role/c99355a2566044l7578742t1w07378340442-LoggingIAMRole-6OrfmZcJWNoU',\n",
       "   'largeDataDeliveryS3Config': {'bucketName': 'c99355a2566044l7578742t1w073783404-loggings3bucket-hkfqu9n6r7m7',\n",
       "    'keyPrefix': 'amazon_bedrock_large_data_delivery'}},\n",
       "  's3Config': {'bucketName': 'c99355a2566044l7578742t1w073783404-loggings3bucket-hkfqu9n6r7m7',\n",
       "   'keyPrefix': 'amazon_bedrock_logs'},\n",
       "  'textDataDeliveryEnabled': True,\n",
       "  'imageDataDeliveryEnabled': True,\n",
       "  'embeddingDataDeliveryEnabled': True}}"
      ]
     },
     "execution_count": 7,
     "metadata": {},
     "output_type": "execute_result"
    }
   ],
   "source": [
    "bedrock.get_model_invocation_logging_configuration()"
   ]
  },
  {
   "cell_type": "code",
   "execution_count": 8,
   "id": "95ebecb7",
   "metadata": {
    "height": 30
   },
   "outputs": [],
   "source": [
    "bedrock_runtime = boto3.client('bedrock-runtime', region_name=\"us-west-2\")"
   ]
  },
  {
   "cell_type": "code",
   "execution_count": 9,
   "id": "402c6311",
   "metadata": {
    "height": 421
   },
   "outputs": [
    {
     "name": "stdout",
     "output_type": "stream",
     "text": [
      "\n",
      "Foobar is a fictional planet that appears in various works of science fiction and fantasy literature. It is often described as a lush, tropical paradise with a variety of exotic flora and fauna. The planet is home to a wide range of intelligent species, including humans, aliens, and magical creatures.\n",
      "\n",
      "One of the most interesting aspects of Foobar is its geography. The planet is shaped like a giant ring, with a central core surrounded by a series of rings. The rings are made up of various materials, including metal, crystal, and glass, and they rotate around the central core at different speeds. The planet's surface is covered in a dense jungle, with rivers, lakes, and mountains.\n",
      "\n",
      "The inhabitants of Foobar are diverse and complex. The humans of Foobar are known as the Dwarves, and they are a technologically advanced society that has built many of the planet's most impressive structures. The Dwarves are known for their craftsmanship and their engineering skills, and they have developed many advanced technologies that have been used to improve the lives of other species on the planet.\n",
      "\n",
      "The aliens of Foobar are also diverse and complex. The most common alien species on Foobar are the Tars, who are a reptilian species that are known for their intelligence and their ability to adapt to any environment. The Tars are also known for their strong sense of family and their loyalty to their leaders.\n",
      "\n",
      "Other alien species on Foobar include the Warlocks, who are a magical species that are known for their powerful spells and their ability to manipulate the elements. The Warlocks are also known for their sense of adventure and their willingness to explore new worlds.\n",
      "\n",
      "Magic plays a significant role in the world of Foobar. There are many different types of magic, including elemental magic, divine magic, and necromancy. Elemental magic involves the manipulation of the four elements (fire, water, earth, and air), while divine magic involves the manipulation of the gods. Necromancy involves the manipulation of the dead.\n",
      "\n",
      "The magic on Foobar is powerful and dangerous, and it can be used for both good and evil. Many of the planet's most powerful magical artifacts are located on Foobar, and they are often sought after by both the Dwarves and the aliens.\n",
      "\n",
      "One of the most famous magical artifacts on Foobar is the Staff of the Dwarves. The Staff of the Dwarves is a powerful artifact that can be used to cast powerful spells and to control the elements. It is\n"
     ]
    }
   ],
   "source": [
    "prompt = \"Write an article about the fictional planet Foobar.\"\n",
    "\n",
    "kwargs = {\n",
    "    \"modelId\": \"amazon.titan-text-express-v1\",\n",
    "    \"contentType\": \"application/json\",\n",
    "    \"accept\": \"*/*\",\n",
    "    \"body\": json.dumps(\n",
    "        {\n",
    "            \"inputText\": prompt,\n",
    "            \"textGenerationConfig\": {\n",
    "                \"maxTokenCount\": 512,\n",
    "                \"temperature\": 0.7,\n",
    "                \"topP\": 0.9\n",
    "            }\n",
    "        }\n",
    "    )\n",
    "}\n",
    "\n",
    "response = bedrock_runtime.invoke_model(**kwargs)\n",
    "response_body = json.loads(response.get('body').read())\n",
    "\n",
    "generation = response_body['results'][0]['outputText']\n",
    "\n",
    "print(generation)"
   ]
  },
  {
   "cell_type": "code",
   "execution_count": 10,
   "id": "68a7bab7",
   "metadata": {
    "height": 30
   },
   "outputs": [],
   "source": [
    "cloudwatch.print_recent_logs(log_group_name)"
   ]
  },
  {
   "cell_type": "markdown",
   "id": "1118acfb",
   "metadata": {},
   "source": [
    "To review the logs within the AWS console, please use the following link to reference the steps outlined in the video:"
   ]
  },
  {
   "cell_type": "code",
   "execution_count": 11,
   "id": "2cf443d2",
   "metadata": {
    "height": 47
   },
   "outputs": [],
   "source": [
    "from IPython.display import HTML\n",
    "aws_url = os.environ['AWS_CONSOLE_URL']"
   ]
  },
  {
   "cell_type": "code",
   "execution_count": 12,
   "id": "0b7c904c",
   "metadata": {
    "height": 47
   },
   "outputs": [
    {
     "data": {
      "text/html": [
       "<a href=\"https://signin.aws.amazon.com/federation?Action=login&SigninToken=xNDVbDXksKjKcfPaV_eCyWWBtzcSmH3qxTybZR8YsET7NoL6nsZKjyxj4vmtdDt9rnm_jys-70El8Ys2MgXG_zLMxynq3GcDnc6fOaYUAXvYUTj3WD4tQry3oqBhTun0DfkeEMgond4Gv49lySlUrZQnii4VoSrOjBm4nh8ppd6uJYgJWi_BGrZDAoAz0iYVIokEfQjQJMKc7o9cM3Th4rUyPEr7fyAqyVVONTSZXroiADC_RuL-qgFv4OC7yre6zypl4UcwLXB0cT0XiUP-nVFNyPnAsLkuB6nniL7HFoAOrOJA3LVC6i9wOXVF4uYPWekQlcYYaSNbSMOpLVjgVj-wArNgMaA7JyIlHUIesMA0e7ah4GhiF-vvbmS4xdPs1IKFWDyXEzEe2-VL_Dmdmw2NyvVoG0Gx7hBZrSEtl6ZoxkE0bqb1ndz8Z_FFoNkOIMyAVR9b3cfdADCppBLQjokkeDhNyMoPbVlmz9k5PUHhuVMYN6elfK6ZxteEWqnjonMQnkY8CdrSBSCs9udd8oLAJWGcK3xa8prGNzwbmEi8RZz0YwleAmTRv0A6wDes7Qxfry2fCFSeKNEl6Jih09swktNhsUj-91yOcrcPGOX1UNjZnx1nswmugwxKNBMyin3zD5j4rUbUuBOfCkX-R6PyQQOE6xJ1NqWfBtcOrEhbrnj5cGmfhRFdfz0sMLjs2tOwKlqovpdA4HATLfDMHNTnVfjiRHlocmaNjDkOEW3j1o0qHL2LPmi9uwkM2VT00qjvRzzwE7PkXpaQFXmuEqBiaPHM_sRzyUz4qCgZuWHrE0U0cPd9K8fcR2SKcnSPkiHoZyYrtrAILYSW22HM8INUDPHewUNCvn7qGwu2_OtDhwbLoTXHykFalocO__2LfjVTpM0oQ8LrphdTCRO8agaur1bhrOIwV04gdETefWS0KROF7Dv5eeoXzf8yj9icAjyj4MROtKX5ikDgGjDG7AVBuhvxxTRAqyetiBxG4M-6I8NCrELFQDi46fQeJkX8VzE_S5QKjIutQ0TMn__0wIJpiCXehvj1_s8eOWOgy559gxN1_sAUSBagM-_uP_emA8J7p4dE9SjRbDNgdld57u6XDK7-Rrl47gO65c1uwdr6RTlZCl-mDYAfrc-TeVDct2djXeDppbc9CMzMhb8xnUYBlLVVURrzotFDcQSlapkoLEmd_tsmBmCDUpf388-yYb7JcAHoU57XziiFy1ekcb4ZPWnVggGwuJ82oIqavwGQEBhL_WA7crSGkjIUwuayF3ovv1Qghe5yvraC3EDTT3Ev97voJTou5A8AuoYxij4PWNIv09tV66aoKqSL2gmVuvZp5AtpduY6GKP8rELUBBfX7zoWCXCPvLqpxMcNJFUu8oR30-vIZZPFbao_jJFG0ipJXVm6I2ADj0OP1tolpG-6f7D8KaNaG0AhUCn484rez4pYdkb4zEerCmD92kFlIU4&Issuer=https%3A%2F%2Fapi.vocareum.com&Destination=https%3A%2F%2Fconsole.aws.amazon.com%2Fconsole%2Fhome%3Fregion%3Dus-west-2\" target=\"_blank\">GO TO AWS CONSOLE</a>"
      ],
      "text/plain": [
       "<IPython.core.display.HTML object>"
      ]
     },
     "execution_count": 12,
     "metadata": {},
     "output_type": "execute_result"
    }
   ],
   "source": [
    "HTML(f'<a href=\"{aws_url}\" target=\"_blank\">GO TO AWS CONSOLE</a>')\n"
   ]
  }
 ],
 "metadata": {
  "kernelspec": {
   "display_name": "Python 3 (ipykernel)",
   "language": "python",
   "name": "python3"
  },
  "language_info": {
   "codemirror_mode": {
    "name": "ipython",
    "version": 3
   },
   "file_extension": ".py",
   "mimetype": "text/x-python",
   "name": "python",
   "nbconvert_exporter": "python",
   "pygments_lexer": "ipython3",
   "version": "3.11.9"
  }
 },
 "nbformat": 4,
 "nbformat_minor": 5
}
